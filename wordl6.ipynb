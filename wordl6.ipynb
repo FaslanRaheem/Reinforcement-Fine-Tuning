{
 "cells": [
  {
   "cell_type": "code",
   "execution_count": null,
   "id": "af0e07aa",
   "metadata": {},
   "outputs": [],
   "source": [
    "import os\n",
    "\n",
    "from predibase import (\n",
    "    Predibase,\n",
    "    GRPOConfig,\n",
    "    RewardFunctionsConfig,\n",
    "    RewardFunctionsRuntimeConfig,\n",
    "    SFTConfig,\n",
    "    SamplingParamsConfig,\n",
    ")\n",
    "from datasets import load_dataset\n",
    "from dotenv import load_dotenv"
   ]
  },
  {
   "cell_type": "code",
   "execution_count": null,
   "id": "a3c3fcf4",
   "metadata": {},
   "outputs": [],
   "source": [
    "load_dotenv(\"../.env\")\n",
    "pb = Predibase(api_token=os.environ[\"PREDIBASE_API_KEY\"])"
   ]
  },
  {
   "cell_type": "code",
   "execution_count": null,
   "id": "c5db5e80",
   "metadata": {},
   "outputs": [],
   "source": [
    "# Load dataset from HuggingFace\n",
    "dataset = load_dataset(\"predibase/wordle-grpo\", split=\"train\")\n",
    "dataset = dataset.to_pandas()\n",
    "\n",
    "# Upload dataset in Predibase\n",
    "try:\n",
    "    dataset = pb.datasets.from_pandas_dataframe(\n",
    "        dataset,\n",
    "        name=\"wordle_grpo_data\"\n",
    "    )\n",
    "except Exception:\n",
    "    dataset = pb.datasets.get(\"wordle_grpo_data\")"
   ]
  },
  {
   "cell_type": "code",
   "execution_count": null,
   "id": "a7bfabfe",
   "metadata": {},
   "outputs": [],
   "source": [
    "# Import reward functions\n",
    "from reward_functions import (\n",
    "    guess_value,\n",
    "    output_format_check,\n",
    "    uses_previous_feedback,\n",
    ")"
   ]
  },
  {
   "cell_type": "code",
   "execution_count": null,
   "id": "74d2314a",
   "metadata": {},
   "outputs": [],
   "source": [
    "# Create GRPO training run in Predibase by specifying the config, \n",
    "# dataset, repository and reward functions\n",
    "pb.finetuning.jobs.create(\n",
    "    config=GRPOConfig(\n",
    "        base_model=\"qwen2-5-7b-instruct\",\n",
    "        reward_fns=RewardFunctionsConfig(\n",
    "            runtime=RewardFunctionsRuntimeConfig(\n",
    "                packages=[\"pandas\"]\n",
    "            ),\n",
    "            functions={\n",
    "                \"output_format_check\": output_format_check,\n",
    "                \"uses_previous_feedback\": uses_previous_feedback,\n",
    "                \"guess_value\": guess_value,\n",
    "            }\n",
    "        ),\n",
    "        sampling_params=SamplingParamsConfig(max_tokens=4096),\n",
    "        num_generations=16\n",
    "    ),\n",
    "    dataset=dataset,\n",
    "    repo=\"wordle\",\n",
    "    description=\"Wordle GRPO\"\n",
    ")"
   ]
  }
 ],
 "metadata": {
  "language_info": {
   "name": "python"
  }
 },
 "nbformat": 4,
 "nbformat_minor": 5
}
