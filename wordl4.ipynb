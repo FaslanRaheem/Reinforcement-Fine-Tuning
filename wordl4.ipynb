{
 "cells": [
  {
   "cell_type": "code",
   "execution_count": null,
   "id": "26ce7968",
   "metadata": {},
   "outputs": [],
   "source": [
    "import os\n",
    "from datasets import load_dataset\n",
    "from dotenv import load_dotenv\n",
    "from openai import OpenAI\n",
    "\n",
    "from utils import *\n",
    "\n",
    "load_dotenv()\n",
    "\n",
    "client = OpenAI(api_key=os.environ[\"OPENAI_API_KEY\"])\n",
    "\n",
    "pb_client = OpenAI(\n",
    "    base_url=os.environ[\"PREDIBASE_MODEL_LLAMA_URL\"],\n",
    "    api_key=os.environ[\"PREDIBASE_API_KEY\"],\n",
    ")"
   ]
  },
  {
   "cell_type": "code",
   "execution_count": null,
   "id": "80b99ac4",
   "metadata": {},
   "outputs": [],
   "source": [
    "ds = load_dataset(\"mrSoul7766/ECTSum\")\n",
    "transcript = ds[\"train\"][1][\"text\"]"
   ]
  },
  {
   "cell_type": "code",
   "execution_count": null,
   "id": "4f7dfa3a",
   "metadata": {},
   "outputs": [],
   "source": [
    "quiz = generate_quiz(transcript)\n",
    "print(quiz)"
   ]
  },
  {
   "cell_type": "code",
   "execution_count": null,
   "id": "a55790f9",
   "metadata": {},
   "outputs": [],
   "source": [
    "prompt = f\"\"\"Generate a concise bulleted summary of the \n",
    "information in the following earnings call transcript.\n",
    "\n",
    "Only respond with the summary, do not include any extraneous text.\n",
    "\n",
    "Transcript:\n",
    "\n",
    "{transcript}\n",
    "\"\"\"\n",
    "\n",
    "completions = pb_client.chat.completions.create(\n",
    "    model=MODEL_NAME,\n",
    "    messages=[\n",
    "        {\"role\": \"user\", \"content\": prompt},\n",
    "    ],\n",
    "    n=8,\n",
    "    temperature=0.9,\n",
    ")"
   ]
  },
  {
   "cell_type": "code",
   "execution_count": null,
   "id": "2ca704c0",
   "metadata": {},
   "outputs": [],
   "source": [
    "responses = [choice.message.content for choice in completions.choices]\n",
    "quiz_rewards = [quiz_reward(resp, quiz) for resp in responses]\n",
    "quiz_rewards"
   ]
  },
  {
   "cell_type": "code",
   "execution_count": null,
   "id": "9d1cda7d",
   "metadata": {},
   "outputs": [],
   "source": [
    "transcript_score = quiz_reward(transcript, quiz)\n",
    "transcript_score"
   ]
  },
  {
   "cell_type": "code",
   "execution_count": null,
   "id": "3065184f",
   "metadata": {},
   "outputs": [],
   "source": [
    "lengths = [len(resp) for resp in responses]\n",
    "lengths"
   ]
  },
  {
   "cell_type": "code",
   "execution_count": null,
   "id": "307c6c1e",
   "metadata": {},
   "outputs": [],
   "source": [
    "len(transcript)"
   ]
  },
  {
   "cell_type": "code",
   "execution_count": null,
   "id": "67a6c57a",
   "metadata": {},
   "outputs": [],
   "source": [
    "def length_penalty_reward(response: str) -> float:\n",
    "    length = len(response)\n",
    "    target_length = 1024\n",
    "    if length <= target_length:\n",
    "        return 0.0\n",
    "    else:\n",
    "        return max(\n",
    "            (target_length - length) / target_length,\n",
    "            -10\n",
    "        ) "
   ]
  },
  {
   "cell_type": "code",
   "execution_count": null,
   "id": "724c7d43",
   "metadata": {},
   "outputs": [],
   "source": [
    "transcript_reward = length_penalty_reward(transcript)\n",
    "transcript_reward"
   ]
  },
  {
   "cell_type": "code",
   "execution_count": null,
   "id": "1653b6f5",
   "metadata": {},
   "outputs": [],
   "source": [
    "lengths = [len(resp) for resp in responses]\n",
    "length_rewards = [\n",
    "    length_penalty_reward(resp) for resp in responses\n",
    "]\n",
    "print_length_table(lengths, length_rewards)"
   ]
  },
  {
   "cell_type": "code",
   "execution_count": null,
   "id": "d62673f9",
   "metadata": {},
   "outputs": [],
   "source": [
    "def total_reward(length_reward, quiz_reward):\n",
    "    return length_reward + quiz_reward"
   ]
  },
  {
   "cell_type": "code",
   "execution_count": null,
   "id": "38d78cd6",
   "metadata": {},
   "outputs": [],
   "source": [
    "total_rewards = [\n",
    "    total_reward(length_reward, quiz_reward) \n",
    "    for length_reward, quiz_reward\n",
    "    in zip(length_rewards, quiz_rewards)\n",
    "]"
   ]
  },
  {
   "cell_type": "code",
   "execution_count": null,
   "id": "f625fb2c",
   "metadata": {},
   "outputs": [],
   "source": [
    "from matplotlib import pyplot as plt\n",
    "\n",
    "advantages = compute_advantages(total_rewards)\n",
    "min_adv = min(advantages)\n",
    "max_adv = max(advantages)\n",
    "\n",
    "plt.figure(figsize=(10,6), facecolor='black')\n",
    "plt.style.use('dark_background')\n",
    "scatter = plt.scatter(length_rewards, quiz_rewards, c=advantages, cmap='RdYlGn', s=100, edgecolor='white', vmin=min_adv, vmax=max_adv)\n",
    "plt.colorbar(scatter, label='Advantage')\n",
    "plt.xlabel('Length Reward')\n",
    "plt.ylabel('Quiz Reward')\n",
    "plt.title('Length Reward vs Quiz Reward (colored by advantage)')\n",
    "plt.grid(True, alpha=0.2)\n",
    "plt.show()"
   ]
  },
  {
   "cell_type": "code",
   "execution_count": null,
   "id": "99b31eea",
   "metadata": {},
   "outputs": [],
   "source": []
  }
 ],
 "metadata": {
  "language_info": {
   "name": "python"
  }
 },
 "nbformat": 4,
 "nbformat_minor": 5
}
